{
  "nbformat": 4,
  "nbformat_minor": 0,
  "metadata": {
    "colab": {
      "name": "Integration Monte Carlo.ipynb",
      "version": "0.3.2",
      "provenance": []
    },
    "kernelspec": {
      "name": "python3",
      "display_name": "Python 3"
    }
  },
  "cells": [
    {
      "metadata": {
        "id": "4pbagvAFazpv",
        "colab_type": "code",
        "colab": {}
      },
      "cell_type": "code",
      "source": [
        "import numpy as np\n",
        "import matplotlib.pyplot as plt\n",
        "import pandas as pd\n",
        "import math as math\n",
        "import random"
      ],
      "execution_count": 0,
      "outputs": []
    },
    {
      "metadata": {
        "id": "FARvMdRKbK1Q",
        "colab_type": "code",
        "outputId": "d573097d-b1a2-4774-f411-3fe85017fa88",
        "colab": {
          "base_uri": "https://localhost:8080/",
          "height": 431
        }
      },
      "cell_type": "code",
      "source": [
        "def integrate(x1,x2,func=easy_function,n=100000):\n",
        "    X=np.linspace(x1,x2,1000)\n",
        "    y1=0\n",
        "    y2=max((func(X)))+1\n",
        "    print(x1,x2,y1,y2)\n",
        "    area=(x2-x1)*(y2-y1)\n",
        "    check=[]\n",
        "    xs=[]\n",
        "    ys=[]\n",
        "    for i in range(n):\n",
        "        x=np.random.uniform(x1,x2,1)\n",
        "        xs.append(x)\n",
        "        y=np.random.uniform(y1,y2,1)\n",
        "        ys.append(y)\n",
        "        if abs(y)>abs(func(x)) or y<0:\n",
        "            check.append(0)\n",
        "        else:\n",
        "            check.append(1)\n",
        "    return(np.mean(check)*area,xs,ys,check)\n",
        "\n",
        "print(integrate(0,2)[0])\n",
        "print(integrate(0,2,hard_function)[0])\n",
        "_,x,y,c=integrate(0,2,n=100)\n",
        "df=pd.DataFrame()\n",
        "df['x']=x\n",
        "df['y']=y\n",
        "df['c']=c\n",
        "\n",
        "X=np.linspace(0,2,1000)\n",
        "plt.plot(X,easy_function(X))\n",
        "plt.scatter(df[df['c']==0]['x'],df[df['c']==0]['y'],color='red')\n",
        "plt.scatter(df[df['c']==1]['x'],df[df['c']==1]['y'],color='blue')\n",
        "plt.show()"
      ],
      "execution_count": 0,
      "outputs": [
        {
          "output_type": "stream",
          "text": [
            "0 2 0 13.0\n",
            "7.9495000000000005\n",
            "0 2 0 1.3989422804014326\n",
            "0.4781304925956016\n",
            "0 2 0 13.0\n"
          ],
          "name": "stdout"
        },
        {
          "output_type": "display_data",
          "data": {
            "image/png": "[encoded data removed]",
            "text/plain": [
              "<Figure size 576x396 with 1 Axes>"
            ]
          },
          "metadata": {
            "tags": []
          }
        }
      ]
    },
    {
      "metadata": {
        "id": "VoGlQAJilFay",
        "colab_type": "code",
        "outputId": "d8f8fe54-e8b6-4b0c-c6c1-e5748b0b7879",
        "colab": {
          "base_uri": "https://localhost:8080/",
          "height": 34
        }
      },
      "cell_type": "code",
      "source": [
        "a = 0\n",
        "b = 2\n",
        "n = 1000\n",
        "ymax = b * b\n",
        "hasil = 0\n",
        "i = 1\n",
        "s = 0\n",
        "while i <= n :\n",
        "  x = np.random.uniform(0,2)\n",
        "  fx = x * x * x\n",
        "  xi = a + np.random.uniform(0,2) * (b-a)\n",
        "  yj = ymax * np.random.uniform(0,2)\n",
        "  if yj < fx :\n",
        "    s += 1\n",
        "  i+=1\n",
        "hasil = ymax * (b-1) * s / n\n",
        "print(hasil)"
      ],
      "execution_count": 0,
      "outputs": [
        {
          "output_type": "stream",
          "text": [
            "1.108\n"
          ],
          "name": "stdout"
        }
      ]
    },
    {
      "metadata": {
        "id": "p_L-nM-vkjo4",
        "colab_type": "code",
        "outputId": "4d6841dd-0725-444e-e78e-12678299ac5f",
        "colab": {
          "base_uri": "https://localhost:8080/",
          "height": 34
        }
      },
      "cell_type": "code",
      "source": [
        "def f(x):\n",
        "    return x * x\n",
        "\n",
        "xmin = 0.0\n",
        "xmax = 2.0\n",
        "\n",
        "numSteps = 1000000\n",
        "ymin = f(xmin)\n",
        "ymax = f(xmax)\n",
        "\n",
        "\n",
        "rectArea = (xmax - xmin) * (ymax - ymin)\n",
        "numPoints = 1000000 \n",
        "ctr = 0\n",
        "for j in range(numPoints):\n",
        "    x = xmin + (xmax - xmin) * random.random()\n",
        "    y = ymin + (ymax - ymin) * random.random()\n",
        "    if math.fabs(y) <= math.fabs(f(x)):\n",
        "      if f(x) > 0 and y > 0 and y <= f(x):\n",
        "        ctr += 1 \n",
        "      if f(x) < 0 and y < 0 and y >= f(x):\n",
        "        ctr -= 1 \n",
        "\n",
        "fnArea = rectArea * float(ctr) / numPoints\n",
        "print(str(fnArea))"
      ],
      "execution_count": 0,
      "outputs": [
        {
          "output_type": "stream",
          "text": [
            "2.668688\n"
          ],
          "name": "stdout"
        }
      ]
    }
  ]
}